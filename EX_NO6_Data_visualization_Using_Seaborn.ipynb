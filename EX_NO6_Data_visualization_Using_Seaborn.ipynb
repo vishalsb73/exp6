{
  "nbformat": 4,
  "nbformat_minor": 0,
  "metadata": {
    "colab": {
      "provenance": []
    },
    "kernelspec": {
      "name": "python3",
      "display_name": "Python 3"
    },
    "language_info": {
      "name": "python"
    }
  },
  "cells": [
    {
      "cell_type": "markdown",
      "source": [
        "**Data visualization Using Seaborn**"
      ],
      "metadata": {
        "id": "FuLLZ6EFnk-A"
      }
    },
    {
      "cell_type": "code",
      "execution_count": null,
      "metadata": {
        "id": "P3IUUNXhkVs-"
      },
      "outputs": [],
      "source": [
        "import pandas as pd\n",
        "import numpy as np\n",
        "import seaborn as sns\n",
        "import matplotlib.pyplot as plt"
      ]
    },
    {
      "cell_type": "code",
      "source": [
        "# Datas\n",
        "x = [1, 2, 3, 4, 5]\n",
        "y = [3, 6, 2, 7, 1]"
      ],
      "metadata": {
        "id": "JeTbcqTqogoo"
      },
      "execution_count": null,
      "outputs": []
    },
    {
      "cell_type": "code",
      "source": [
        "# Create line plot using seaborn"
      ],
      "metadata": {
        "id": "r_x-no-bozuS"
      },
      "execution_count": null,
      "outputs": []
    },
    {
      "cell_type": "code",
      "source": [
        "x = [1, 2, 3, 4, 5]\n",
        "y1 = [3, 5, 2, 6, 1]\n",
        "y2 = [1, 6, 4, 3, 8]\n",
        "y3 = [5, 2, 7, 1, 4]"
      ],
      "metadata": {
        "id": "LXhl8Ly4o3u9"
      },
      "execution_count": null,
      "outputs": []
    },
    {
      "cell_type": "code",
      "source": [
        "# implement line plot and include all the necessary parameters"
      ],
      "metadata": {
        "id": "uQmDGp4juoGD"
      },
      "execution_count": null,
      "outputs": []
    },
    {
      "cell_type": "markdown",
      "source": [
        "**Bar Plot - Seaborn**"
      ],
      "metadata": {
        "id": "5CFH0S3XveoG"
      }
    },
    {
      "cell_type": "code",
      "source": [
        "tips = sns.load_dataset('tips')"
      ],
      "metadata": {
        "id": "WR7FrA6vuuj9"
      },
      "execution_count": null,
      "outputs": []
    },
    {
      "cell_type": "code",
      "source": [
        "# Implement Bar plot with hue parameter\n",
        "\n",
        "# Set labels and title\n"
      ],
      "metadata": {
        "id": "3ljBSOfKu2KG"
      },
      "execution_count": null,
      "outputs": []
    },
    {
      "cell_type": "code",
      "source": [
        "# Include titanic dataset\n",
        "tit=pd.read_csv(\"/content/titanic_dataset.csv\")\n",
        "tit"
      ],
      "metadata": {
        "id": "JOlOoA9VvKJS"
      },
      "execution_count": null,
      "outputs": []
    },
    {
      "cell_type": "code",
      "source": [
        "plt.figure(figsize=(8,5))\n",
        "# Implement barplot using seaborn and set x='Embarked',y='Fare',data=tit, palette='rainbow' and set graph title as \"Fare of Passenger by Embarked Town\""
      ],
      "metadata": {
        "id": "e-KcupL7v9_a"
      },
      "execution_count": null,
      "outputs": []
    },
    {
      "cell_type": "code",
      "source": [
        "plt.figure(figsize=(8,5))\n",
        "# Implement barplot using seaborn and set x='Embarked',y='Fare',data=tit, palette='rainbow',hue='Pclass' and set graph title as \"Fare of Passenger by Embarked Town, Divided by Class\""
      ],
      "metadata": {
        "id": "6W4nT5bMwQyL"
      },
      "execution_count": null,
      "outputs": []
    },
    {
      "cell_type": "code",
      "source": [
        "import seaborn as sns\n",
        "# using tips dataset implement Scatter plot of total bill vs tip amount\n",
        "\n",
        "# Set labels and title\n",
        "plt.xlabel('Total Bill')\n",
        "plt.ylabel('Tip Amount')\n",
        "plt.title('Scatter Plot of Total Bill vs. Tip Amount')"
      ],
      "metadata": {
        "id": "19bsCiuowjjf"
      },
      "execution_count": null,
      "outputs": []
    },
    {
      "cell_type": "markdown",
      "source": [
        "**VIOLIN PLOT**"
      ],
      "metadata": {
        "id": "Lp-XssW0xVig"
      }
    },
    {
      "cell_type": "code",
      "source": [
        "# implement violinplot by comparing any two values from titanic data set"
      ],
      "metadata": {
        "id": "BUyOTlL6w3VO"
      },
      "execution_count": null,
      "outputs": []
    },
    {
      "cell_type": "markdown",
      "source": [
        "**HISTOGRAM**"
      ],
      "metadata": {
        "id": "RyJQEywSxkBW"
      }
    },
    {
      "cell_type": "code",
      "source": [
        "import seaborn as sns\n",
        "import numpy as np\n",
        "import pandas as pd"
      ],
      "metadata": {
        "id": "2e9qUBLFxiAa"
      },
      "execution_count": null,
      "outputs": []
    },
    {
      "cell_type": "code",
      "source": [
        "np.random.seed(0)\n",
        "marks = np.random.normal(loc=70, scale=10, size=100)"
      ],
      "metadata": {
        "id": "Ze-UX9O_xr8P"
      },
      "execution_count": null,
      "outputs": []
    },
    {
      "cell_type": "code",
      "source": [
        "# Generating dataset of random numbers\n",
        "np.random.seed(1)\n",
        "num_var = np.random.randn(1000)\n",
        "num_var = pd.Series(num_var, name = \"Numerical Variable\")\n",
        "num_var"
      ],
      "metadata": {
        "id": "fytWCuBzxuuj"
      },
      "execution_count": null,
      "outputs": []
    },
    {
      "cell_type": "code",
      "source": [
        "# IMPLEMENT HISTOGRAM"
      ],
      "metadata": {
        "id": "CwQgQQjYxyqU"
      },
      "execution_count": null,
      "outputs": []
    },
    {
      "cell_type": "code",
      "source": [
        "# IMPLEMENT histplot in seaborn and set parameters data=df,x=Pclass,hue=Survived,kde=True"
      ],
      "metadata": {
        "id": "lzbMVIaOx3OT"
      },
      "execution_count": null,
      "outputs": []
    }
  ]
}